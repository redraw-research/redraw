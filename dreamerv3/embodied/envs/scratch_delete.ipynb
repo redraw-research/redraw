{
 "cells": [
  {
   "cell_type": "code",
   "execution_count": 1,
   "id": "initial_id",
   "metadata": {
    "collapsed": true,
    "ExecuteTime": {
     "end_time": "2024-06-14T01:46:24.665155385Z",
     "start_time": "2024-06-14T01:46:22.128061936Z"
    }
   },
   "outputs": [],
   "source": [
    "from dreamerv3.embodied.envs.dmc import DMC\n",
    "from dm_control.rl.control import Environment"
   ]
  },
  {
   "cell_type": "code",
   "execution_count": 10,
   "outputs": [],
   "source": [
    "env_name = \"cup_catch\"\n",
    "# env_name = \"walker_walk\"\n",
    "env = DMC(env=env_name)"
   ],
   "metadata": {
    "collapsed": false,
    "ExecuteTime": {
     "end_time": "2024-06-14T02:08:58.433067510Z",
     "start_time": "2024-06-14T02:08:58.344907477Z"
    }
   },
   "id": "903087ede03a1044"
  },
  {
   "cell_type": "code",
   "execution_count": 11,
   "outputs": [
    {
     "data": {
      "text/plain": "{'reset': Space(dtype=bool, shape=(), low=False, high=True),\n 'action': Space(dtype=float64, shape=(2,), low=-1.0, high=1.0)}"
     },
     "execution_count": 11,
     "metadata": {},
     "output_type": "execute_result"
    }
   ],
   "source": [
    "env.act_space\n"
   ],
   "metadata": {
    "collapsed": false,
    "ExecuteTime": {
     "end_time": "2024-06-14T02:09:01.323899557Z",
     "start_time": "2024-06-14T02:09:01.298727954Z"
    }
   },
   "id": "63cb0810d2a51856"
  },
  {
   "cell_type": "code",
   "execution_count": 4,
   "outputs": [],
   "source": [
    "base_env: Environment = env._env.env.env._env"
   ],
   "metadata": {
    "collapsed": false,
    "ExecuteTime": {
     "end_time": "2023-10-23T21:58:07.517525629Z",
     "start_time": "2023-10-23T21:58:07.491247605Z"
    }
   },
   "id": "16a18180f7db0dfc"
  },
  {
   "cell_type": "code",
   "execution_count": 5,
   "outputs": [
    {
     "name": "stdout",
     "output_type": "stream",
     "text": [
      "rootx: 0.0\n",
      "rootz: 0.0\n",
      "rooty: 0.0\n",
      "bthigh: 0.0\n",
      "bshin: 0.0\n",
      "bfoot: 0.0\n",
      "fthigh: 0.0\n",
      "fshin: 0.0\n",
      "ffoot: 0.0\n"
     ]
    }
   ],
   "source": [
    "for i, value in enumerate(base_env.physics.data.qpos):\n",
    "    print(f\"{base_env.physics.data.model.id2name(i, 'joint')}: {value}\")\n"
   ],
   "metadata": {
    "collapsed": false,
    "ExecuteTime": {
     "end_time": "2023-10-23T21:58:07.547527696Z",
     "start_time": "2023-10-23T21:58:07.504165330Z"
    }
   },
   "id": "c46361f9391b92b5"
  },
  {
   "cell_type": "code",
   "execution_count": 6,
   "outputs": [
    {
     "data": {
      "text/plain": "{'reset': Space(dtype=bool, shape=(), low=False, high=True),\n 'action': Space(dtype=float64, shape=(6,), low=-1.0, high=1.0)}"
     },
     "execution_count": 6,
     "metadata": {},
     "output_type": "execute_result"
    }
   ],
   "source": [
    "env.act_space"
   ],
   "metadata": {
    "collapsed": false,
    "ExecuteTime": {
     "end_time": "2023-10-23T21:58:07.547754915Z",
     "start_time": "2023-10-23T21:58:07.547106201Z"
    }
   },
   "id": "8b62337c6f1d1426"
  },
  {
   "cell_type": "code",
   "execution_count": 7,
   "outputs": [],
   "source": [
    "for i in range(20):\n",
    "    env.step(action={\"reset\": False, \"action\": env.act_space[\"action\"].sample()})\n"
   ],
   "metadata": {
    "collapsed": false,
    "ExecuteTime": {
     "end_time": "2023-10-23T21:58:07.626357438Z",
     "start_time": "2023-10-23T21:58:07.547318538Z"
    }
   },
   "id": "796a9e09ddc14498"
  },
  {
   "cell_type": "code",
   "execution_count": 8,
   "outputs": [
    {
     "name": "stdout",
     "output_type": "stream",
     "text": [
      "rootx: -0.1009570083565262\n",
      "rootz: -0.13327826931670744\n",
      "rooty: 0.05427954532506675\n",
      "bthigh: 0.15633941548866742\n",
      "bshin: 0.015420979771811921\n",
      "bfoot: 0.006535041564831621\n",
      "fthigh: -0.09310174332517965\n",
      "fshin: -0.2415585420425075\n",
      "ffoot: -0.02839127501612504\n"
     ]
    }
   ],
   "source": [
    "for i, value in enumerate(base_env.physics.data.qpos):\n",
    "    print(f\"{base_env.physics.data.model.id2name(i, 'joint')}: {value}\")"
   ],
   "metadata": {
    "collapsed": false,
    "ExecuteTime": {
     "end_time": "2023-10-23T21:58:07.675833620Z",
     "start_time": "2023-10-23T21:58:07.627741908Z"
    }
   },
   "id": "1ca3f43c10dc62dc"
  },
  {
   "cell_type": "code",
   "execution_count": 9,
   "outputs": [
    {
     "data": {
      "text/plain": "array([[[ 69, 102, 135],\n        [ 67, 100, 134],\n        [ 69, 102, 135],\n        ...,\n        [ 67, 100, 134],\n        [ 67, 100, 134],\n        [ 66, 100, 133]],\n\n       [[ 66,  99, 133],\n        [ 66, 100, 133],\n        [ 66, 100, 133],\n        ...,\n        [ 66, 100, 133],\n        [ 66, 100, 133],\n        [ 72, 104, 136]],\n\n       [[ 68, 100, 133],\n        [ 66,  99, 132],\n        [ 66,  99, 132],\n        ...,\n        [ 68, 101, 133],\n        [ 66,  99, 132],\n        [ 66,  99, 132]],\n\n       ...,\n\n       [[ 36,  54,  71],\n        [ 35,  53,  71],\n        [ 35,  53,  70],\n        ...,\n        [ 35,  53,  71],\n        [ 35,  53,  71],\n        [ 36,  54,  71]],\n\n       [[ 38,  55,  73],\n        [ 35,  52,  70],\n        [ 35,  52,  70],\n        ...,\n        [ 35,  52,  70],\n        [ 35,  52,  70],\n        [ 35,  52,  70]],\n\n       [[ 34,  52,  69],\n        [ 35,  53,  69],\n        [ 40,  57,  74],\n        ...,\n        [ 34,  51,  68],\n        [ 34,  51,  69],\n        [ 34,  51,  69]]], dtype=uint8)"
     },
     "execution_count": 9,
     "metadata": {},
     "output_type": "execute_result"
    }
   ],
   "source": [
    "env.render()"
   ],
   "metadata": {
    "collapsed": false,
    "ExecuteTime": {
     "end_time": "2023-10-23T21:58:07.676171947Z",
     "start_time": "2023-10-23T21:58:07.675020412Z"
    }
   },
   "id": "5781b737494ca84d"
  },
  {
   "cell_type": "code",
   "execution_count": 9,
   "outputs": [],
   "source": [],
   "metadata": {
    "collapsed": false,
    "ExecuteTime": {
     "end_time": "2023-10-23T21:58:07.676254148Z",
     "start_time": "2023-10-23T21:58:07.675255653Z"
    }
   },
   "id": "4db1e1af66bf022f"
  },
  {
   "cell_type": "code",
   "execution_count": 10,
   "outputs": [
    {
     "name": "stdout",
     "output_type": "stream",
     "text": [
      "0: rootx\n",
      "1: rootz\n",
      "2: rooty\n",
      "3: bthigh\n",
      "4: bshin\n",
      "5: bfoot\n",
      "6: fthigh\n",
      "7: fshin\n",
      "8: ffoot\n",
      "9: \n",
      "10: \n",
      "11: \n",
      "12: \n",
      "13: \n",
      "14: \n",
      "15: \n",
      "16: \n",
      "17: \n",
      "18: \n",
      "19: \n"
     ]
    }
   ],
   "source": [
    "\n",
    "for i in range(20):\n",
    "    print(f\"{i}: {base_env.physics.data.model.id2name(i, 'joint')}\")"
   ],
   "metadata": {
    "collapsed": false,
    "ExecuteTime": {
     "end_time": "2023-10-23T21:58:07.676774946Z",
     "start_time": "2023-10-23T21:58:07.675425783Z"
    }
   },
   "id": "33f7ee0cf6fb5d92"
  },
  {
   "cell_type": "code",
   "execution_count": 10,
   "outputs": [],
   "source": [],
   "metadata": {
    "collapsed": false,
    "ExecuteTime": {
     "end_time": "2023-10-23T21:58:07.676846006Z",
     "start_time": "2023-10-23T21:58:07.676093047Z"
    }
   },
   "id": "d773e73be0e2d538"
  },
  {
   "cell_type": "code",
   "execution_count": 11,
   "outputs": [
    {
     "name": "stdout",
     "output_type": "stream",
     "text": [
      "None\n",
      "body\n",
      "xbody\n",
      "joint\n",
      "dof\n",
      "geom\n",
      "site\n",
      "camera\n",
      "light\n",
      "flex\n",
      "mesh\n",
      "skin\n",
      "hfield\n",
      "texture\n",
      "material\n",
      "pair\n",
      "exclude\n",
      "equality\n",
      "tendon\n",
      "actuator\n",
      "sensor\n",
      "numeric\n",
      "text\n",
      "tuple\n",
      "key\n",
      "plugin\n",
      "None\n",
      "None\n",
      "None\n",
      "None\n"
     ]
    }
   ],
   "source": [
    "import mujoco\n",
    "for i in range(30):\n",
    "    print(mujoco.mju_type2Str(i))"
   ],
   "metadata": {
    "collapsed": false,
    "ExecuteTime": {
     "end_time": "2023-10-23T21:58:07.677219293Z",
     "start_time": "2023-10-23T21:58:07.676363469Z"
    }
   },
   "id": "1e63d6b356794945"
  },
  {
   "cell_type": "code",
   "execution_count": 11,
   "outputs": [],
   "source": [],
   "metadata": {
    "collapsed": false,
    "ExecuteTime": {
     "end_time": "2023-10-23T21:58:07.677380094Z",
     "start_time": "2023-10-23T21:58:07.676551736Z"
    }
   },
   "id": "895402122381844"
  }
 ],
 "metadata": {
  "kernelspec": {
   "display_name": "Python 3",
   "language": "python",
   "name": "python3"
  },
  "language_info": {
   "codemirror_mode": {
    "name": "ipython",
    "version": 2
   },
   "file_extension": ".py",
   "mimetype": "text/x-python",
   "name": "python",
   "nbconvert_exporter": "python",
   "pygments_lexer": "ipython2",
   "version": "2.7.6"
  }
 },
 "nbformat": 4,
 "nbformat_minor": 5
}
